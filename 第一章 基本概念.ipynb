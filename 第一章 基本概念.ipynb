{
 "cells": [
  {
   "cell_type": "markdown",
   "metadata": {},
   "source": [
    "# 蒙提霍尔三门问题"
   ]
  },
  {
   "cell_type": "code",
   "execution_count": 11,
   "metadata": {
    "collapsed": true
   },
   "outputs": [],
   "source": [
    "import random\n",
    "def MontyHall(Dselect, Dchange):\n",
    "    Dcar = random.randint(1,3)\n",
    "    if Dcar == Dselect and Dchange == 0:\n",
    "        return 1\n",
    "    elif Dcar != Dselect and Dchange == 0:\n",
    "        return 0\n",
    "    elif Dcar == Dselect and Dchange == 1:\n",
    "        return 0\n",
    "    else:\n",
    "        return 1"
   ]
  },
  {
   "cell_type": "markdown",
   "metadata": {},
   "source": [
    "当选手不确定时，约为 1/2"
   ]
  },
  {
   "cell_type": "code",
   "execution_count": 12,
   "metadata": {},
   "outputs": [
    {
     "name": "stdout",
     "output_type": "stream",
     "text": [
      "0.4961\n"
     ]
    }
   ],
   "source": [
    "n = 10000\n",
    "win = 0\n",
    "for i in range(n):\n",
    "    Dselect = random.randint(1,3)\n",
    "    Dchange = random.randint(0,1)\n",
    "    win = win + MontyHall(Dselect, Dchange)\n",
    "print float(win)/float(n)"
   ]
  },
  {
   "cell_type": "markdown",
   "metadata": {},
   "source": [
    "当选手确定不改变选择时，约为1/3"
   ]
  },
  {
   "cell_type": "code",
   "execution_count": 13,
   "metadata": {},
   "outputs": [
    {
     "name": "stdout",
     "output_type": "stream",
     "text": [
      "0.3347\n"
     ]
    }
   ],
   "source": [
    "n = 10000\n",
    "win = 0\n",
    "for i in range(n):\n",
    "    Dselect = random.randint(1,3)\n",
    "    Dchange = 0n = 10000\n",
    "win = 0\n",
    "for i in range(n):\n",
    "    Dselect = random.randint(1,3)\n",
    "    Dchange = random.randint(0,1)\n",
    "    win = win + MontyHall(Dselect, Dchange)\n",
    "print float(win)/float(n)\n",
    "    win = win + MontyHall(Dselect, Dchange)\n",
    "print float(win)/float(n)"
   ]
  },
  {
   "cell_type": "markdown",
   "metadata": {},
   "source": [
    "当选手确定改变选择时，约为2/3"
   ]
  },
  {
   "cell_type": "code",
   "execution_count": 14,
   "metadata": {},
   "outputs": [
    {
     "name": "stdout",
     "output_type": "stream",
     "text": [
      "0.6719\n"
     ]
    }
   ],
   "source": [
    "n = 10000\n",
    "win = 0\n",
    "for i in range(n):\n",
    "    Dselect = random.randint(1,3)\n",
    "    Dchange = 1\n",
    "    win = win + MontyHall(Dselect, Dchange)\n",
    "print float(win)/float(n)"
   ]
  }
 ],
 "metadata": {
  "kernelspec": {
   "display_name": "Python 2",
   "language": "python",
   "name": "python2"
  },
  "language_info": {
   "codemirror_mode": {
    "name": "ipython",
    "version": 2
   },
   "file_extension": ".py",
   "mimetype": "text/x-python",
   "name": "python",
   "nbconvert_exporter": "python",
   "pygments_lexer": "ipython2",
   "version": "2.7.13"
  }
 },
 "nbformat": 4,
 "nbformat_minor": 2
}
