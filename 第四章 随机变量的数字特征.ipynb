{
 "cells": [
  {
   "cell_type": "markdown",
   "metadata": {},
   "source": [
    "# 1. 二项分布的数字特征"
   ]
  },
  {
   "cell_type": "code",
   "execution_count": 4,
   "metadata": {},
   "outputs": [
    {
     "name": "stdout",
     "output_type": "stream",
     "text": [
      "期望： 2.0\n",
      "方差： 1.6\n",
      "一阶矩： 2.0\n",
      "二阶矩： 5.6\n",
      "三阶矩： 18.56\n",
      "四阶矩： 69.824\n",
      "(期望、方差、偏度、峰度)： (array(2.0), array(1.6), array(0.47434164902525694), array(0.024999999999999883))\n"
     ]
    }
   ],
   "source": [
    "from scipy.stats import binom\n",
    "\n",
    "rv = binom(10, 0.2)\n",
    "print '期望：',rv.mean()\n",
    "print '方差：',rv.var()\n",
    "print '一阶矩：',rv.moment(1)\n",
    "print '二阶矩：',rv.moment(2)\n",
    "print '三阶矩：',rv.moment(3)\n",
    "print '四阶矩：',rv.moment(4)\n",
    "print '(期望、方差、偏度、峰度)：',rv.stats(moments = 'mvsk')"
   ]
  },
  {
   "cell_type": "markdown",
   "metadata": {},
   "source": [
    "# 2. 泊松分布的数字特征"
   ]
  },
  {
   "cell_type": "code",
   "execution_count": 3,
   "metadata": {},
   "outputs": [
    {
     "name": "stdout",
     "output_type": "stream",
     "text": [
      "期望： 5.0\n",
      "方差： 5.0\n",
      "一阶矩： 5\n",
      "二阶矩： 30\n",
      "三阶矩： 205.0\n",
      "四阶矩： 1555.0\n",
      "(期望、方差、偏度、峰度)： (array(5.0), array(5.0), array(0.4472135954999579), array(0.2))\n"
     ]
    }
   ],
   "source": [
    "from scipy.stats import poisson\n",
    "\n",
    "rv = poisson(mu = 5)\n",
    "print '期望：',rv.mean()\n",
    "print '方差：',rv.var()\n",
    "print '一阶矩：',rv.moment(1)\n",
    "print '二阶矩：',rv.moment(2)\n",
    "print '三阶矩：',rv.moment(3)\n",
    "print '四阶矩：',rv.moment(4)\n",
    "print '(期望、方差、偏度、峰度)：',rv.stats(moments = 'mvsk')"
   ]
  },
  {
   "cell_type": "markdown",
   "metadata": {},
   "source": [
    "# 3. 均匀分布的数字特征"
   ]
  },
  {
   "cell_type": "code",
   "execution_count": 4,
   "metadata": {},
   "outputs": [
    {
     "name": "stdout",
     "output_type": "stream",
     "text": [
      "期望： 5.0\n",
      "方差： 3.0\n",
      "一阶矩： 5.0\n",
      "二阶矩： 28.0\n",
      "三阶矩： 170.0\n",
      "四阶矩： 1091.2\n",
      "(期望、方差、偏度、峰度)： (array(5.0), array(3.0), array(0.0), array(-1.2))\n"
     ]
    }
   ],
   "source": [
    "from scipy.stats import uniform\n",
    "\n",
    "rv = uniform(loc = 2, scale = 6)\n",
    "print '期望：',rv.mean()\n",
    "print '方差：',rv.var()\n",
    "print '一阶矩：',rv.moment(1)\n",
    "print '二阶矩：',rv.moment(2)\n",
    "print '三阶矩：',rv.moment(3)\n",
    "print '四阶矩：',rv.moment(4)\n",
    "print '(期望、方差、偏度、峰度)：',rv.stats(moments = 'mvsk')"
   ]
  },
  {
   "cell_type": "markdown",
   "metadata": {},
   "source": [
    "# 4. 指数分布的数字特征"
   ]
  },
  {
   "cell_type": "code",
   "execution_count": 5,
   "metadata": {},
   "outputs": [
    {
     "name": "stdout",
     "output_type": "stream",
     "text": [
      "期望： 2.0\n",
      "方差： 4.0\n",
      "一阶矩： 2.0\n",
      "二阶矩： 8.0\n",
      "三阶矩： 48.0\n",
      "四阶矩： 384.0\n",
      "(期望、方差、偏度、峰度)： (array(2.0), array(4.0), array(2.0), array(6.0))\n"
     ]
    }
   ],
   "source": [
    "from scipy.stats import expon\n",
    "\n",
    "rv = expon(scale = 2)\n",
    "print '期望：',rv.mean()\n",
    "print '方差：',rv.var()\n",
    "print '一阶矩：',rv.moment(1)\n",
    "print '二阶矩：',rv.moment(2)\n",
    "print '三阶矩：',rv.moment(3)\n",
    "print '四阶矩：',rv.moment(4)\n",
    "print '(期望、方差、偏度、峰度)：',rv.stats(moments = 'mvsk')"
   ]
  },
  {
   "cell_type": "markdown",
   "metadata": {},
   "source": [
    "# 5. 正态分布的数学期望"
   ]
  },
  {
   "cell_type": "code",
   "execution_count": 6,
   "metadata": {},
   "outputs": [
    {
     "name": "stdout",
     "output_type": "stream",
     "text": [
      "73.0\n",
      "29.0\n"
     ]
    }
   ],
   "source": [
    "from scipy.stats import norm\n",
    "\n",
    "f1 = lambda x: x**4\n",
    "f2 = lambda x: x**2-x+2\n",
    "\n",
    "print norm.expect(f1, loc = 1, scale = 2)\n",
    "print norm.expect(f2, loc = 2, scale = 5)"
   ]
  },
  {
   "cell_type": "markdown",
   "metadata": {},
   "source": [
    "# 6. 利用积分计算指数分布的数字特征"
   ]
  },
  {
   "cell_type": "code",
   "execution_count": 7,
   "metadata": {},
   "outputs": [
    {
     "name": "stdout",
     "output_type": "stream",
     "text": [
      "利用积分计算一阶矩和二阶矩：\n",
      "(1.9999999999999998, 6.795556663247187e-10)\n",
      "(8.0, 1.6973912005928412e-10)\n",
      "验证：\n",
      "2.0\n",
      "8.0\n"
     ]
    }
   ],
   "source": [
    "import numpy as np\n",
    "from scipy import integrate\n",
    "from scipy.stats import expon\n",
    "\n",
    "E1 = lambda x:x*0.5*np.exp(-x/2)\n",
    "E2 = lambda x:x**2*0.5*np.exp(-x/2)\n",
    "\n",
    "print \"利用积分计算一阶矩和二阶矩：\"\n",
    "print integrate.quad(E1, 0, np.inf)\n",
    "print integrate.quad(E2, 0, np.inf)\n",
    "\n",
    "print \"验证：\"\n",
    "print expon(scale = 2).moment(1)\n",
    "print expon(scale = 2).moment(2)"
   ]
  }
 ],
 "metadata": {
  "kernelspec": {
   "display_name": "Python 2",
   "language": "python",
   "name": "python2"
  },
  "language_info": {
   "codemirror_mode": {
    "name": "ipython",
    "version": 2
   },
   "file_extension": ".py",
   "mimetype": "text/x-python",
   "name": "python",
   "nbconvert_exporter": "python",
   "pygments_lexer": "ipython2",
   "version": "2.7.13"
  }
 },
 "nbformat": 4,
 "nbformat_minor": 2
}
