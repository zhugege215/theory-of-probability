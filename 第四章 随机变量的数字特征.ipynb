{
 "cells": [
  {
   "cell_type": "markdown",
   "metadata": {},
   "source": [
    "# 1. 二项分布的数字特征"
   ]
  },
  {
   "cell_type": "code",
   "execution_count": 4,
   "metadata": {},
   "outputs": [
    {
     "name": "stdout",
     "output_type": "stream",
     "text": [
      "期望： 2.0\n",
      "方差： 1.6\n",
      "一阶矩： 2.0\n",
      "二阶矩： 5.6\n",
      "三阶矩： 18.56\n",
      "四阶矩： 69.824\n",
      "(期望、方差、偏度、峰度)： (array(2.0), array(1.6), array(0.47434164902525694), array(0.024999999999999883))\n"
     ]
    }
   ],
   "source": [
    "from scipy.stats import binom\n",
    "\n",
    "rv = binom(10, 0.2)\n",
    "print '期望：',rv.mean()\n",
    "print '方差：',rv.var()\n",
    "print '一阶矩：',rv.moment(1)\n",
    "print '二阶矩：',rv.moment(2)\n",
    "print '三阶矩：',rv.moment(3)\n",
    "print '四阶矩：',rv.moment(4)\n",
    "print '(期望、方差、偏度、峰度)：',rv.stats(moments = 'mvsk')"
   ]
  }
 ],
 "metadata": {
  "kernelspec": {
   "display_name": "Python 2",
   "language": "python",
   "name": "python2"
  },
  "language_info": {
   "codemirror_mode": {
    "name": "ipython",
    "version": 2
   },
   "file_extension": ".py",
   "mimetype": "text/x-python",
   "name": "python",
   "nbconvert_exporter": "python",
   "pygments_lexer": "ipython2",
   "version": "2.7.13"
  }
 },
 "nbformat": 4,
 "nbformat_minor": 2
}
